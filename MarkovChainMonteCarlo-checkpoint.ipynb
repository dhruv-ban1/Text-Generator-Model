{
 "cells": [
  {
   "cell_type": "markdown",
   "id": "ee129c2f-7046-4c2b-8748-2c132766a3df",
   "metadata": {},
   "source": [
    "# Importing Libraries"
   ]
  },
  {
   "cell_type": "code",
   "execution_count": null,
   "id": "57332da9-2c1a-4c65-9450-56253758cb89",
   "metadata": {},
   "outputs": [],
   "source": [
    "import numpy as np\n",
    "import pandas as pd \n",
    "import os \n",
    "import re \n",
    "import string \n",
    "import nltk\n",
    "nltk.download('punkt')\n",
    "from nltk.tokenize import word_tokenize\n",
    "from nltk.corpus import stopwords\n",
    "import random"
   ]
  },
  {
   "cell_type": "markdown",
   "id": "21fb1e37-452a-41ff-a5d8-78dce412a519",
   "metadata": {},
   "source": [
    "# Reading all Data"
   ]
  },
  {
   "cell_type": "code",
   "execution_count": 33,
   "id": "75dddede-5130-43e5-b4a7-698995ba6f10",
   "metadata": {},
   "outputs": [
    {
     "name": "stdout",
     "output_type": "stream",
     "text": [
      "Number of lines: 105652\n"
     ]
    }
   ],
   "source": [
    "file_path = 'shakespeare.txt'\n",
    "with open(file_path, 'r', encoding='utf-8') as file:\n",
    "    data_content = file.read()\n",
    "\n",
    "# Split into paragraphs based on '----------'\n",
    "paragraphs = data_content.split('----------')\n",
    "\n",
    "def read_all_data(paragraphs):\n",
    "    txt = []\n",
    "    for paragraph in paragraphs:\n",
    "        lines = paragraph.strip().split('\\n')\n",
    "        for line in lines:\n",
    "            line = line.strip()\n",
    "            if line != '':\n",
    "                txt.append(line)\n",
    "    return txt\n",
    "\n",
    "text_file = read_all_data(paragraphs)\n",
    "print(\"Number of lines:\", len(text_file))"
   ]
  },
  {
   "cell_type": "markdown",
   "id": "3a2fd5b2-ea62-4f28-8f0c-df5d77fbabc2",
   "metadata": {},
   "source": [
    "# Cleaning Data "
   ]
  },
  {
   "cell_type": "code",
   "execution_count": 37,
   "id": "04ef2145-2652-456b-8458-711f3f381644",
   "metadata": {},
   "outputs": [
    {
     "name": "stdout",
     "output_type": "stream",
     "text": [
      "number of words =  820589\n"
     ]
    }
   ],
   "source": [
    "def clean_txt(txt):\n",
    "    cleaned_txt = []\n",
    "    for line in txt :\n",
    "        line = line.lower()\n",
    "        line = re.sub(r\"[,.\\\"\\'!@#$%^&*(){}?/;`~<>+=-\\\\]\",\"\",line)\n",
    "        tokens = word_tokenize(line)\n",
    "        words = [word for word in tokens if word.isalpha()]\n",
    "        cleaned_txt += words\n",
    "    return cleaned_txt\n",
    "\n",
    "cleaned_text_file =  clean_txt(text_file)\n",
    "print(\"number of words = \", len(cleaned_text_file)) "
   ]
  },
  {
   "cell_type": "markdown",
   "id": "3de486dd-d6d1-4cad-b3c2-fbdc91049fca",
   "metadata": {},
   "source": [
    "# Generating Markov-Chain Model\n",
    "\n",
    "In this section, we will see how markov chains are created.\n",
    "\n",
    "A Markov model is a stochastic model used to predict the probability of a sequence of possible states based on the current state. It assumes that the future state only depends on the present state and not on the sequence of events that preceded it. This property is known as the Markov property. Markov models are widely used in various fields, including natural language processing, for tasks such as text generation, language modeling, and speech recognition.\n",
    "\n",
    "### Key Concepts\n",
    "\n",
    "- **State**: In the context of text, a state can be a sequence of words or characters.\n",
    "- **Transition**: The movement from one state to another.\n",
    "- **N-gram**: A contiguous sequence of `n` items from a given sample of text or speech. In this case, an n-gram represents a sequence of `n` words.\n",
    "\n",
    "### Function: `making_markov_model`\n",
    "\n",
    "The `making_markov_model` function constructs a Markov model from a list of cleaned text. The model is represented as a dictionary where each key is a current state (sequence of words), and the value is another dictionary that maps possible next states to their transition probabilities.\n",
    "\n",
    "### Diagram of a Markov Model\n",
    "\n",
    "Below is a visual representation of a Markov model for a better understanding of how states and transitions work.\n",
    "\n",
    "<img src=\"MarkovRepresentation.png\" alt=\"Markov Model Diagram\" width=\"400\"/>\n",
    "\n"
   ]
  },
  {
   "cell_type": "code",
   "execution_count": 47,
   "id": "9471cfea-c706-4681-a813-5ef6905a2042",
   "metadata": {},
   "outputs": [],
   "source": [
    "def making_markov_model(cleaned_text_file, n_gram =2):\n",
    "    markov_model = {}\n",
    "    for i in range(len(cleaned_text_file)-n_gram-1):\n",
    "        curr_state , next_state = \"\" , \"\" \n",
    "        for j in range(n_gram):\n",
    "            curr_state += cleaned_text_file[i+j] + \" \"\n",
    "            next_state += cleaned_text_file[i+j+n_gram] + \" \"\n",
    "        curr_state = curr_state[: -1]\n",
    "        next_state = next_state[: -1]\n",
    "\n",
    "        if curr_state not in markov_model:\n",
    "            markov_model[curr_state] = {}\n",
    "            markov_model[curr_state][next_state] = 1\n",
    "        else:\n",
    "            if next_state in markov_model[curr_state]:\n",
    "                markov_model[curr_state][next_state] += 1\n",
    "            else:\n",
    "                markov_model[curr_state][next_state] = 1\n",
    "    #calculating state transition probabilities\n",
    "    for curr_state , transition in markov_model.items():\n",
    "        total = sum(transition.values())\n",
    "        for state , count in transition.items():\n",
    "            markov_model[curr_state][state] = count/total\n",
    "        \n",
    "    return markov_model    "
   ]
  },
  {
   "cell_type": "code",
   "execution_count": 48,
   "id": "de5123da-f7a8-4eca-b633-8b49c9fc8321",
   "metadata": {},
   "outputs": [],
   "source": [
    "markov_model = making_markov_model(cleaned_text_file)"
   ]
  },
  {
   "cell_type": "code",
   "execution_count": 49,
   "id": "06fc7d80-9c12-4c02-8e25-1917959f5adb",
   "metadata": {},
   "outputs": [
    {
     "name": "stdout",
     "output_type": "stream",
     "text": [
      "number of states =  328736\n"
     ]
    }
   ],
   "source": [
    "print(\"number of states = \", len(markov_model.keys()))"
   ]
  },
  {
   "cell_type": "code",
   "execution_count": 72,
   "id": "ca1a3b76-f99d-4de6-a890-20210d1c9db3",
   "metadata": {},
   "outputs": [],
   "source": [
    "print(\"All transition probabilites from  word 'they' state: \\n\")\n",
    "print(markov_model['should not'])"
   ]
  },
  {
   "cell_type": "markdown",
   "id": "1d878c10-66b7-4b52-af7d-12cb11c434bc",
   "metadata": {},
   "source": [
    "## Making Predictions"
   ]
  },
  {
   "cell_type": "code",
   "execution_count": 61,
   "id": "536cdc9f-35ff-41b6-8d7f-4b3d81380b0e",
   "metadata": {},
   "outputs": [],
   "source": [
    "def generate_predictions(markov_model , limit = 100 , start ='there is'):\n",
    "    n = 0\n",
    "    curr_state = start\n",
    "    next_state = None\n",
    "    story = \"\"\n",
    "    story += curr_state +\" \"\n",
    "    while n <limit:\n",
    "        next_state = random.choices(list(markov_model[curr_state].keys()) , \n",
    "                                    list(markov_model[curr_state].values()))\n",
    "        curr_state =next_state[0]\n",
    "        story += curr_state+\" \"\n",
    "        n += 1\n",
    "    return story"
   ]
  },
  {
   "cell_type": "code",
   "execution_count": 73,
   "id": "45f5d3f6-8d7b-4eb8-9862-a47235eecf35",
   "metadata": {},
   "outputs": [],
   "source": [
    "for i in range(20):\n",
    "    print(str(i)+\" \", generate_predictions(markov_model, start = \"there was\" , limit = 8))"
   ]
  },
  {
   "cell_type": "code",
   "execution_count": 74,
   "id": "6401e507-c617-4ad4-8247-6b545eff578d",
   "metadata": {},
   "outputs": [],
   "source": [
    "print(generate_predictions(markov_model , start= \"once upon\" , limit = 100))"
   ]
  }
 ],
 "metadata": {
  "kernelspec": {
   "display_name": "Python 3 (ipykernel)",
   "language": "python",
   "name": "python3"
  },
  "language_info": {
   "codemirror_mode": {
    "name": "ipython",
    "version": 3
   },
   "file_extension": ".py",
   "mimetype": "text/x-python",
   "name": "python",
   "nbconvert_exporter": "python",
   "pygments_lexer": "ipython3",
   "version": "3.12.3"
  }
 },
 "nbformat": 4,
 "nbformat_minor": 5
}
